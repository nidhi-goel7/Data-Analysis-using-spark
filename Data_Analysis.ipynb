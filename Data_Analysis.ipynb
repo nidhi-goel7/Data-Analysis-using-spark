{
 "cells": [
  {
   "cell_type": "code",
   "execution_count": 1,
   "metadata": {},
   "outputs": [],
   "source": [
    "import findspark\n",
    "\n",
    "findspark.init(\"/opt/cloudera/parcels/CDH-6.2.1-1.cdh6.2.1.p0.1425774/lib/spark\")\n",
    "\n",
    "from pyspark.sql import SparkSession\n",
    "\n",
    "spark = SparkSession.builder.getOrCreate()\n",
    "\n",
    "from datetime import datetime\n",
    "\n"
   ]
  },
  {
   "cell_type": "markdown",
   "metadata": {},
   "source": [
    "## 1. Set the schema for all the data sets and load them from different locations using file. "
   ]
  },
  {
   "cell_type": "code",
   "execution_count": 2,
   "metadata": {},
   "outputs": [],
   "source": [
    "df_cust_dimen = spark.read.format('csv').option('header','True').option('inferSchema','True').load(\"/.../cust_dimen.csv\")\n",
    "df_market_fact = spark.read.format('csv').option('header','True').option('inferSchema','True').load(\"/.../market_fact.csv\")\n",
    "df_orders_dimen = spark.read.format('csv').option('header','True').option('inferSchema','True').load(\"/.../orders_dimen.csv\")\n",
    "df_prod_dimen = spark.read.format('csv').option('header','True').option('inferSchema','True').load(\"/.../prod_dimen.csv\")\n",
    "df_shipping_dimen = spark.read.format('csv').option('header','True').option('inferSchema','True').load(\"/.../shipping_dimen.csv\")\n",
    "\n"
   ]
  },
  {
   "cell_type": "markdown",
   "metadata": {},
   "source": [
    "## 2. Join all the Data frames and create a new Data frame called Full_DataFrame in such a way that the new data frame does not contain duplicate columns.\n",
    "(cust_dimen, market_fact, orders_dimen, prod_dimen, shipping_dimen)\n"
   ]
  },
  {
   "cell_type": "code",
   "execution_count": 3,
   "metadata": {},
   "outputs": [],
   "source": [
    "Full_DataFrame = df_cust_dimen.join(df_market_fact,[\"Cust_id\"]) \\\n",
    "    .join(df_orders_dimen,[\"Ord_id\"]) \\\n",
    "    .join(df_prod_dimen,[\"Prod_id\"]) \\\n",
    "    .join(df_shipping_dimen,[\"Order_ID\"])"
   ]
  },
  {
   "cell_type": "code",
   "execution_count": 4,
   "metadata": {},
   "outputs": [
    {
     "name": "stdout",
     "output_type": "stream",
     "text": [
      "+--------+-------+--------+---------+-------------+--------+------+----------------+--------+-------+--------+--------------+------+-------------+-------------------+----------+--------------+----------------+--------------------+-----------+----------+--------+\n",
      "|Order_ID|Prod_id|  Ord_id|  Cust_id|Customer_Name|Province|Region|Customer_Segment| Ship_id|  Sales|Discount|Order_Quantity|Profit|Shipping_Cost|Product_Base_Margin|Order_Date|Order_Priority|Product_Category|Product_Sub_Category|  Ship_Mode| Ship_Date| Ship_id|\n",
      "+--------+-------+--------+---------+-------------+--------+------+----------------+--------+-------+--------+--------------+------+-------------+-------------------+----------+--------------+----------------+--------------------+-----------+----------+--------+\n",
      "|   36262|Prod_16|Ord_5446|Cust_1818|AARON BERGMAN| ALBERTA|  WEST|       CORPORATE|SHP_7609| 136.81|    0.01|            23|-30.51|          3.6|               0.56|27-07-2010| NOT SPECIFIED| OFFICE SUPPLIES|SCISSORS, RULERS ...|EXPRESS AIR|27-07-2010|SHP_7610|\n",
      "|   36262|Prod_16|Ord_5446|Cust_1818|AARON BERGMAN| ALBERTA|  WEST|       CORPORATE|SHP_7609| 136.81|    0.01|            23|-30.51|          3.6|               0.56|27-07-2010| NOT SPECIFIED| OFFICE SUPPLIES|SCISSORS, RULERS ...|REGULAR AIR|28-07-2010|SHP_7609|\n",
      "|   36262|Prod_16|Ord_5446|Cust_1818|AARON BERGMAN| ALBERTA|  WEST|       CORPORATE|SHP_7609| 136.81|    0.01|            23|-30.51|          3.6|               0.56|27-07-2010| NOT SPECIFIED| OFFICE SUPPLIES|SCISSORS, RULERS ...|EXPRESS AIR|28-07-2010|SHP_7608|\n",
      "|   20513|Prod_13|Ord_5406|Cust_1818|AARON BERGMAN| ALBERTA|  WEST|       CORPORATE|SHP_7549|  42.27|    0.01|            13|  4.56|         0.93|               0.54|07-07-2009|          HIGH| OFFICE SUPPLIES| PENS & ART SUPPLIES|EXPRESS AIR|08-07-2009|SHP_7549|\n",
      "|   36262| Prod_4|Ord_5446|Cust_1818|AARON BERGMAN| ALBERTA|  WEST|       CORPORATE|SHP_7610|4701.69|     0.0|            26|1148.9|          2.5|               0.59|27-07-2010| NOT SPECIFIED|      TECHNOLOGY|TELEPHONES AND CO...|EXPRESS AIR|27-07-2010|SHP_7610|\n",
      "+--------+-------+--------+---------+-------------+--------+------+----------------+--------+-------+--------+--------------+------+-------------+-------------------+----------+--------------+----------------+--------------------+-----------+----------+--------+\n",
      "only showing top 5 rows\n",
      "\n"
     ]
    }
   ],
   "source": [
    "Full_DataFrame.show(5)"
   ]
  },
  {
   "cell_type": "markdown",
   "metadata": {},
   "source": [
    "## 3. Convert the Order_Date and Ship_Date columns type into Date type. And print the schema and show the top 5 records for Order_Date and Ship_Date  columns."
   ]
  },
  {
   "cell_type": "code",
   "execution_count": 5,
   "metadata": {},
   "outputs": [],
   "source": [
    "#import datetime\n",
    "from pyspark.sql.functions import *\n",
    "from pyspark.sql.types import DateType\n",
    "\n",
    "to_datetype = udf(lambda x: datetime.strptime(x, '%d-%m-%Y'), DateType())\n",
    "\n",
    "Full_DataFrame = Full_DataFrame.withColumn('Ship_Date', to_datetype(col('Ship_Date'))) \\\n",
    "                .withColumn('Order_Date', to_datetype(col('Order_Date')))"
   ]
  },
  {
   "cell_type": "code",
   "execution_count": 6,
   "metadata": {},
   "outputs": [
    {
     "name": "stdout",
     "output_type": "stream",
     "text": [
      "root\n",
      " |-- Order_ID: integer (nullable = true)\n",
      " |-- Prod_id: string (nullable = true)\n",
      " |-- Ord_id: string (nullable = true)\n",
      " |-- Cust_id: string (nullable = true)\n",
      " |-- Customer_Name: string (nullable = true)\n",
      " |-- Province: string (nullable = true)\n",
      " |-- Region: string (nullable = true)\n",
      " |-- Customer_Segment: string (nullable = true)\n",
      " |-- Ship_id: string (nullable = true)\n",
      " |-- Sales: double (nullable = true)\n",
      " |-- Discount: double (nullable = true)\n",
      " |-- Order_Quantity: integer (nullable = true)\n",
      " |-- Profit: double (nullable = true)\n",
      " |-- Shipping_Cost: double (nullable = true)\n",
      " |-- Product_Base_Margin: string (nullable = true)\n",
      " |-- Order_Date: date (nullable = true)\n",
      " |-- Order_Priority: string (nullable = true)\n",
      " |-- Product_Category: string (nullable = true)\n",
      " |-- Product_Sub_Category: string (nullable = true)\n",
      " |-- Ship_Mode: string (nullable = true)\n",
      " |-- Ship_Date: date (nullable = true)\n",
      " |-- Ship_id: string (nullable = true)\n",
      "\n"
     ]
    }
   ],
   "source": [
    "Full_DataFrame.printSchema()"
   ]
  },
  {
   "cell_type": "code",
   "execution_count": 7,
   "metadata": {},
   "outputs": [
    {
     "name": "stdout",
     "output_type": "stream",
     "text": [
      "+----------+----------+\n",
      "| Ship_Date|Order_Date|\n",
      "+----------+----------+\n",
      "|2010-07-27|2010-07-27|\n",
      "|2010-07-28|2010-07-27|\n",
      "|2010-07-28|2010-07-27|\n",
      "|2009-07-08|2009-07-07|\n",
      "|2010-07-27|2010-07-27|\n",
      "+----------+----------+\n",
      "only showing top 5 rows\n",
      "\n"
     ]
    }
   ],
   "source": [
    "Full_DataFrame[\"Ship_Date\",\"Order_Date\"].show(5)"
   ]
  },
  {
   "cell_type": "markdown",
   "metadata": {},
   "source": [
    "## 4. Find the top 3 customers who have the maximum number of orders"
   ]
  },
  {
   "cell_type": "code",
   "execution_count": 8,
   "metadata": {},
   "outputs": [],
   "source": [
    "Full_DataFrame.createOrReplaceTempView(\"order_data\")\n"
   ]
  },
  {
   "cell_type": "code",
   "execution_count": 9,
   "metadata": {},
   "outputs": [
    {
     "name": "stdout",
     "output_type": "stream",
     "text": [
      "+--------+-------+--------+---------+-------------+--------+------+----------------+--------+-------+--------+--------------+-------+-------------+-------------------+----------+--------------+----------------+--------------------+--------------+----------+--------+\n",
      "|Order_ID|Prod_id|  Ord_id|  Cust_id|Customer_Name|Province|Region|Customer_Segment| Ship_id|  Sales|Discount|Order_Quantity| Profit|Shipping_Cost|Product_Base_Margin|Order_Date|Order_Priority|Product_Category|Product_Sub_Category|     Ship_Mode| Ship_Date| Ship_id|\n",
      "+--------+-------+--------+---------+-------------+--------+------+----------------+--------+-------+--------+--------------+-------+-------------+-------------------+----------+--------------+----------------+--------------------+--------------+----------+--------+\n",
      "|   36262|Prod_16|Ord_5446|Cust_1818|AARON BERGMAN| ALBERTA|  WEST|       CORPORATE|SHP_7609| 136.81|    0.01|            23| -30.51|          3.6|               0.56|2010-07-27| NOT SPECIFIED| OFFICE SUPPLIES|SCISSORS, RULERS ...|   EXPRESS AIR|2010-07-27|SHP_7610|\n",
      "|   36262|Prod_16|Ord_5446|Cust_1818|AARON BERGMAN| ALBERTA|  WEST|       CORPORATE|SHP_7609| 136.81|    0.01|            23| -30.51|          3.6|               0.56|2010-07-27| NOT SPECIFIED| OFFICE SUPPLIES|SCISSORS, RULERS ...|   REGULAR AIR|2010-07-28|SHP_7609|\n",
      "|   36262|Prod_16|Ord_5446|Cust_1818|AARON BERGMAN| ALBERTA|  WEST|       CORPORATE|SHP_7609| 136.81|    0.01|            23| -30.51|          3.6|               0.56|2010-07-27| NOT SPECIFIED| OFFICE SUPPLIES|SCISSORS, RULERS ...|   EXPRESS AIR|2010-07-28|SHP_7608|\n",
      "|   20513|Prod_13|Ord_5406|Cust_1818|AARON BERGMAN| ALBERTA|  WEST|       CORPORATE|SHP_7549|  42.27|    0.01|            13|   4.56|         0.93|               0.54|2009-07-07|          HIGH| OFFICE SUPPLIES| PENS & ART SUPPLIES|   EXPRESS AIR|2009-07-08|SHP_7549|\n",
      "|   36262| Prod_4|Ord_5446|Cust_1818|AARON BERGMAN| ALBERTA|  WEST|       CORPORATE|SHP_7610|4701.69|     0.0|            26| 1148.9|          2.5|               0.59|2010-07-27| NOT SPECIFIED|      TECHNOLOGY|TELEPHONES AND CO...|   EXPRESS AIR|2010-07-27|SHP_7610|\n",
      "|   36262| Prod_4|Ord_5446|Cust_1818|AARON BERGMAN| ALBERTA|  WEST|       CORPORATE|SHP_7610|4701.69|     0.0|            26| 1148.9|          2.5|               0.59|2010-07-27| NOT SPECIFIED|      TECHNOLOGY|TELEPHONES AND CO...|   REGULAR AIR|2010-07-28|SHP_7609|\n",
      "|   36262| Prod_4|Ord_5446|Cust_1818|AARON BERGMAN| ALBERTA|  WEST|       CORPORATE|SHP_7610|4701.69|     0.0|            26| 1148.9|          2.5|               0.59|2010-07-27| NOT SPECIFIED|      TECHNOLOGY|TELEPHONES AND CO...|   EXPRESS AIR|2010-07-28|SHP_7608|\n",
      "|   39682| Prod_6|Ord_5456|Cust_1818|AARON BERGMAN| ALBERTA|  WEST|       CORPORATE|SHP_7625|2337.89|    0.09|            43| 729.34|         14.3|               0.37|2010-11-09|        MEDIUM| OFFICE SUPPLIES|               PAPER|   EXPRESS AIR|2010-11-11|SHP_7625|\n",
      "|   54019|Prod_17|Ord_5485|Cust_1818|AARON BERGMAN| ALBERTA|  WEST|       CORPORATE|SHP_7664|4233.15|    0.08|            35|1219.87|         26.3|               0.38|2009-07-01|           LOW|      TECHNOLOGY|     OFFICE MACHINES|DELIVERY TRUCK|2009-07-08|SHP_7664|\n",
      "|   36262| Prod_6|Ord_5446|Cust_1818|AARON BERGMAN| ALBERTA|  WEST|       CORPORATE|SHP_7608| 164.02|    0.03|            23| -47.64|         6.15|               0.37|2010-07-27| NOT SPECIFIED| OFFICE SUPPLIES|               PAPER|   EXPRESS AIR|2010-07-27|SHP_7610|\n",
      "+--------+-------+--------+---------+-------------+--------+------+----------------+--------+-------+--------+--------------+-------+-------------+-------------------+----------+--------------+----------------+--------------------+--------------+----------+--------+\n",
      "only showing top 10 rows\n",
      "\n"
     ]
    }
   ],
   "source": [
    "spark.sql(\"select * from order_data\").show(10)"
   ]
  },
  {
   "cell_type": "code",
   "execution_count": 10,
   "metadata": {},
   "outputs": [
    {
     "name": "stdout",
     "output_type": "stream",
     "text": [
      "+---------+--------------+-----------+\n",
      "|  Cust_id| Customer_Name|Order_Count|\n",
      "+---------+--------------+-----------+\n",
      "|Cust_1140| PATRICK JONES|         62|\n",
      "| Cust_572|LENA CREIGHTON|         52|\n",
      "| Cust_188| JUSTIN KNIGHT|         47|\n",
      "+---------+--------------+-----------+\n",
      "only showing top 3 rows\n",
      "\n"
     ]
    }
   ],
   "source": [
    "spark.sql(\"select Cust_id,Customer_Name, count(Order_ID) as `Order_Count` from order_data group by Cust_id,Customer_Name order by Order_Count desc\").show(3)\n"
   ]
  },
  {
   "cell_type": "markdown",
   "metadata": {},
   "source": [
    "## 5. Create a new column DaysTakenForDelivery that contains the date difference between Order_Date and Ship_Date. "
   ]
  },
  {
   "cell_type": "code",
   "execution_count": 11,
   "metadata": {},
   "outputs": [],
   "source": [
    "Full_DataFrame = Full_DataFrame.withColumn(\"DaysTakenForDelivery\",datediff('Ship_Date','Order_Date'))"
   ]
  },
  {
   "cell_type": "code",
   "execution_count": 12,
   "metadata": {},
   "outputs": [
    {
     "name": "stdout",
     "output_type": "stream",
     "text": [
      "+--------------------+---------+\n",
      "|DaysTakenForDelivery|  Cust_id|\n",
      "+--------------------+---------+\n",
      "|                   0|Cust_1818|\n",
      "|                   1|Cust_1818|\n",
      "|                   1|Cust_1818|\n",
      "|                   1|Cust_1818|\n",
      "|                   0|Cust_1818|\n",
      "+--------------------+---------+\n",
      "only showing top 5 rows\n",
      "\n"
     ]
    }
   ],
   "source": [
    "Full_DataFrame[\"DaysTakenForDelivery\",\"Cust_id\"].show(5)"
   ]
  },
  {
   "cell_type": "markdown",
   "metadata": {},
   "source": [
    "## 6. Find the customer whose order took the maximum time to get delivered"
   ]
  },
  {
   "cell_type": "code",
   "execution_count": 13,
   "metadata": {},
   "outputs": [],
   "source": [
    "Full_DataFrame.createOrReplaceTempView(\"ship_data\")\n"
   ]
  },
  {
   "cell_type": "code",
   "execution_count": 14,
   "metadata": {},
   "outputs": [
    {
     "name": "stdout",
     "output_type": "stream",
     "text": [
      "+---------+-------------+--------------------+\n",
      "|  Cust_id|Customer_Name|DaysTakenForDelivery|\n",
      "+---------+-------------+--------------------+\n",
      "|Cust_1460|  DEAN PERCER|                  92|\n",
      "+---------+-------------+--------------------+\n",
      "\n"
     ]
    }
   ],
   "source": [
    "spark.sql(\"select Cust_id,Customer_Name, DaysTakenForDelivery from ship_data order by DaysTakenForDelivery desc limit 1\").show()\n"
   ]
  },
  {
   "cell_type": "markdown",
   "metadata": {},
   "source": [
    "## 7. Using the windows function, retrieve total sales made by each product from the data. "
   ]
  },
  {
   "cell_type": "code",
   "execution_count": 15,
   "metadata": {},
   "outputs": [
    {
     "name": "stdout",
     "output_type": "stream",
     "text": [
      "+--------+-------+--------+---------+----------------+--------------------+--------------------+----------------+--------+------+--------+--------------+-------+-------------+-------------------+----------+--------------+----------------+--------------------+--------------+----------+--------+--------------------+------------------+\n",
      "|Order_ID|Prod_id|  Ord_id|  Cust_id|   Customer_Name|            Province|              Region|Customer_Segment| Ship_id| Sales|Discount|Order_Quantity| Profit|Shipping_Cost|Product_Base_Margin|Order_Date|Order_Priority|Product_Category|Product_Sub_Category|     Ship_Mode| Ship_Date| Ship_id|DaysTakenForDelivery|       Total_Sales|\n",
      "+--------+-------+--------+---------+----------------+--------------------+--------------------+----------------+--------+------+--------+--------------+-------+-------------+-------------------+----------+--------------+----------------+--------------------+--------------+----------+--------+--------------------+------------------+\n",
      "|    4132|Prod_12|  Ord_31|  Cust_26|   AARON BERGMAN|             NUNAVUT|             NUNAVUT|       CORPORATE|  SHP_41| 14.76|    0.01|             5|   1.32|          0.5|               0.36|2011-05-28| NOT SPECIFIED| OFFICE SUPPLIES|              LABELS|   REGULAR AIR|2011-05-30|  SHP_41|                   2|59708.410000000025|\n",
      "|   37638|Prod_12|Ord_2478| Cust_931|  AARON SMAYLING|              QUEBEC|              QUEBEC|  SMALL BUSINESS|SHP_3395|139.98|    0.07|            33|-140.54|         6.89|               0.39|2009-01-21|           LOW| OFFICE SUPPLIES|              LABELS|   REGULAR AIR|2009-01-23|SHP_3395|                   2|59708.410000000025|\n",
      "|   18596|Prod_12|Ord_5035|Cust_1710| ADAM BELLAVANCE|             ALBERTA|                WEST|  SMALL BUSINESS|SHP_7025| 416.8|    0.01|            32| 223.38|          0.5|               0.38|2012-10-02|           LOW| OFFICE SUPPLIES|              LABELS|   REGULAR AIR|2012-10-04|SHP_7025|                   2|59708.410000000025|\n",
      "|   18596|Prod_12|Ord_5035|Cust_1710| ADAM BELLAVANCE|             ALBERTA|                WEST|  SMALL BUSINESS|SHP_7025| 416.8|    0.01|            32| 223.38|          0.5|               0.38|2012-10-02|           LOW| OFFICE SUPPLIES|              LABELS|DELIVERY TRUCK|2012-10-04|SHP_7024|                   2|59708.410000000025|\n",
      "|   52196|Prod_12|Ord_4768|Cust_1579|       ADAM HART|    BRITISH COLUMBIA|                WEST|       CORPORATE|SHP_6650|  3.85|    0.08|             1|  -1.36|         0.99|               0.37|2010-01-30| NOT SPECIFIED| OFFICE SUPPLIES|              LABELS|   REGULAR AIR|2010-02-01|SHP_6651|                   2|59708.410000000025|\n",
      "|   52196|Prod_12|Ord_4768|Cust_1579|       ADAM HART|    BRITISH COLUMBIA|                WEST|       CORPORATE|SHP_6650|  3.85|    0.08|             1|  -1.36|         0.99|               0.37|2010-01-30| NOT SPECIFIED| OFFICE SUPPLIES|              LABELS|   REGULAR AIR|2010-01-31|SHP_6650|                   1|59708.410000000025|\n",
      "|   33702|Prod_12|Ord_4622|Cust_1579|       ADAM HART|    BRITISH COLUMBIA|                WEST|       CORPORATE|SHP_6437| 56.26|     0.0|            14|  28.11|          0.5|               0.38|2012-09-02| NOT SPECIFIED| OFFICE SUPPLIES|              LABELS|   EXPRESS AIR|2012-09-03|SHP_6437|                   1|59708.410000000025|\n",
      "|   23555|Prod_12|Ord_4552|Cust_1474|       ADAM HART|               YUKON|               YUKON|       CORPORATE|SHP_6335| 104.7|    0.09|            29|  42.16|          0.5|               0.38|2012-12-11|          HIGH| OFFICE SUPPLIES|              LABELS|   REGULAR AIR|2012-12-12|SHP_6335|                   1|59708.410000000025|\n",
      "|    9763|Prod_12|  Ord_60|  Cust_45|     ALAN BARNES|NORTHWEST TERRITO...|NORTHWEST TERRITO...|       CORPORATE|  SHP_81|176.26|    0.07|            44|  75.13|          0.5|               0.39|2011-08-13|        MEDIUM| OFFICE SUPPLIES|              LABELS|   REGULAR AIR|2011-08-16|  SHP_81|                   3|59708.410000000025|\n",
      "|    2532|Prod_12|  Ord_23|  Cust_18|     ALAN BARNES|             NUNAVUT|             NUNAVUT|       CORPORATE|  SHP_31|282.07|    0.03|            39| 140.01|         0.49|               0.38|2011-10-10|          HIGH| OFFICE SUPPLIES|              LABELS|   REGULAR AIR|2011-10-11|  SHP_31|                   1|59708.410000000025|\n",
      "|   26309|Prod_12|Ord_5417|Cust_1800|  ALAN DOMINGUEZ|             ALBERTA|                WEST|       CORPORATE|SHP_7565|128.13|    0.09|            42|  32.53|         0.99|               0.37|2012-02-19|           LOW| OFFICE SUPPLIES|              LABELS|   REGULAR AIR|2012-02-21|SHP_7565|                   2|59708.410000000025|\n",
      "|   21703|Prod_12|Ord_4155|Cust_1423|      ALAN HWANG|       NEW BRUNSWICK|            ATLANTIC|  SMALL BUSINESS|SHP_5790| 12.01|     0.0|             3|  -1.08|          0.5|               0.38|2009-03-02| NOT SPECIFIED| OFFICE SUPPLIES|              LABELS|   EXPRESS AIR|2009-03-02|SHP_5791|                   0|59708.410000000025|\n",
      "|   21703|Prod_12|Ord_4155|Cust_1423|      ALAN HWANG|       NEW BRUNSWICK|            ATLANTIC|  SMALL BUSINESS|SHP_5790| 12.01|     0.0|             3|  -1.08|          0.5|               0.38|2009-03-02| NOT SPECIFIED| OFFICE SUPPLIES|              LABELS|   REGULAR AIR|2009-03-04|SHP_5790|                   2|59708.410000000025|\n",
      "|   52007|Prod_12|Ord_2791|Cust_1036| ALEJANDRO GROVE|             ONTARIO|             ONTARIO|        CONSUMER|SHP_3837| 68.54|     0.1|            25|   22.2|          0.5|               0.39|2012-04-14|        MEDIUM| OFFICE SUPPLIES|              LABELS|DELIVERY TRUCK|2012-04-15|SHP_3838|                   1|59708.410000000025|\n",
      "|   52007|Prod_12|Ord_2791|Cust_1036| ALEJANDRO GROVE|             ONTARIO|             ONTARIO|        CONSUMER|SHP_3837| 68.54|     0.1|            25|   22.2|          0.5|               0.39|2012-04-14|        MEDIUM| OFFICE SUPPLIES|              LABELS|   REGULAR AIR|2012-04-14|SHP_3837|                   0|59708.410000000025|\n",
      "|   41440|Prod_12|Ord_4675|Cust_1618|ALEJANDRO SAVELY|    BRITISH COLUMBIA|                WEST|       CORPORATE|SHP_6519| 92.94|    0.09|            20|  37.77|          0.5|               0.36|2009-09-22|          HIGH| OFFICE SUPPLIES|              LABELS|DELIVERY TRUCK|2009-09-25|SHP_6520|                   3|59708.410000000025|\n",
      "|   41440|Prod_12|Ord_4675|Cust_1618|ALEJANDRO SAVELY|    BRITISH COLUMBIA|                WEST|       CORPORATE|SHP_6519| 92.94|    0.09|            20|  37.77|          0.5|               0.36|2009-09-22|          HIGH| OFFICE SUPPLIES|              LABELS|   REGULAR AIR|2009-09-23|SHP_6519|                   1|59708.410000000025|\n",
      "|   13959|Prod_12|Ord_5161|Cust_1752|    ALEX RUSSELL|             ALBERTA|                WEST|     HOME OFFICE|SHP_7212|228.46|    0.01|            47| 112.06|          0.5|               0.36|2009-04-04|        MEDIUM| OFFICE SUPPLIES|              LABELS|   EXPRESS AIR|2009-04-06|SHP_7213|                   2|59708.410000000025|\n",
      "|   13959|Prod_12|Ord_5161|Cust_1752|    ALEX RUSSELL|             ALBERTA|                WEST|     HOME OFFICE|SHP_7212|228.46|    0.01|            47| 112.06|          0.5|               0.36|2009-04-04|        MEDIUM| OFFICE SUPPLIES|              LABELS|   REGULAR AIR|2009-04-06|SHP_7212|                   2|59708.410000000025|\n",
      "|   16772|Prod_12|Ord_5165|Cust_1752|    ALEX RUSSELL|             ALBERTA|                WEST|     HOME OFFICE|SHP_7218| 95.71|    0.04|            38|  32.81|          0.5|               0.39|2012-12-26|          HIGH| OFFICE SUPPLIES|              LABELS|   REGULAR AIR|2012-12-28|SHP_7218|                   2|59708.410000000025|\n",
      "+--------+-------+--------+---------+----------------+--------------------+--------------------+----------------+--------+------+--------+--------------+-------+-------------+-------------------+----------+--------------+----------------+--------------------+--------------+----------+--------+--------------------+------------------+\n",
      "only showing top 20 rows\n",
      "\n"
     ]
    }
   ],
   "source": [
    "from pyspark.sql.window import Window\n",
    "\n",
    "windowPartition  = Window.partitionBy(\"Product_Sub_Category\")\n",
    "\n",
    "\n",
    "Full_DataFrame.withColumn(\"Total_Sales\",sum(col(\"Sales\")).over(windowPartition)).show()\n"
   ]
  },
  {
   "cell_type": "markdown",
   "metadata": {},
   "source": [
    "## 8.  Using the windows function retrieve the total profit made from each product from the data and also do without the windows function using pyspark data frame. "
   ]
  },
  {
   "cell_type": "code",
   "execution_count": 16,
   "metadata": {},
   "outputs": [
    {
     "name": "stdout",
     "output_type": "stream",
     "text": [
      "+--------+-------+--------+---------+----------------+--------------------+--------------------+----------------+--------+------+--------+--------------+-------+-------------+-------------------+----------+--------------+----------------+--------------------+--------------+----------+--------+--------------------+------------------+\n",
      "|Order_ID|Prod_id|  Ord_id|  Cust_id|   Customer_Name|            Province|              Region|Customer_Segment| Ship_id| Sales|Discount|Order_Quantity| Profit|Shipping_Cost|Product_Base_Margin|Order_Date|Order_Priority|Product_Category|Product_Sub_Category|     Ship_Mode| Ship_Date| Ship_id|DaysTakenForDelivery|      Total_Profit|\n",
      "+--------+-------+--------+---------+----------------+--------------------+--------------------+----------------+--------+------+--------+--------------+-------+-------------+-------------------+----------+--------------+----------------+--------------------+--------------+----------+--------+--------------------+------------------+\n",
      "|    4132|Prod_12|  Ord_31|  Cust_26|   AARON BERGMAN|             NUNAVUT|             NUNAVUT|       CORPORATE|  SHP_41| 14.76|    0.01|             5|   1.32|          0.5|               0.36|2011-05-28| NOT SPECIFIED| OFFICE SUPPLIES|              LABELS|   REGULAR AIR|2011-05-30|  SHP_41|                   2|21502.610000000004|\n",
      "|   37638|Prod_12|Ord_2478| Cust_931|  AARON SMAYLING|              QUEBEC|              QUEBEC|  SMALL BUSINESS|SHP_3395|139.98|    0.07|            33|-140.54|         6.89|               0.39|2009-01-21|           LOW| OFFICE SUPPLIES|              LABELS|   REGULAR AIR|2009-01-23|SHP_3395|                   2|21502.610000000004|\n",
      "|   18596|Prod_12|Ord_5035|Cust_1710| ADAM BELLAVANCE|             ALBERTA|                WEST|  SMALL BUSINESS|SHP_7025| 416.8|    0.01|            32| 223.38|          0.5|               0.38|2012-10-02|           LOW| OFFICE SUPPLIES|              LABELS|   REGULAR AIR|2012-10-04|SHP_7025|                   2|21502.610000000004|\n",
      "|   18596|Prod_12|Ord_5035|Cust_1710| ADAM BELLAVANCE|             ALBERTA|                WEST|  SMALL BUSINESS|SHP_7025| 416.8|    0.01|            32| 223.38|          0.5|               0.38|2012-10-02|           LOW| OFFICE SUPPLIES|              LABELS|DELIVERY TRUCK|2012-10-04|SHP_7024|                   2|21502.610000000004|\n",
      "|   52196|Prod_12|Ord_4768|Cust_1579|       ADAM HART|    BRITISH COLUMBIA|                WEST|       CORPORATE|SHP_6650|  3.85|    0.08|             1|  -1.36|         0.99|               0.37|2010-01-30| NOT SPECIFIED| OFFICE SUPPLIES|              LABELS|   REGULAR AIR|2010-02-01|SHP_6651|                   2|21502.610000000004|\n",
      "|   52196|Prod_12|Ord_4768|Cust_1579|       ADAM HART|    BRITISH COLUMBIA|                WEST|       CORPORATE|SHP_6650|  3.85|    0.08|             1|  -1.36|         0.99|               0.37|2010-01-30| NOT SPECIFIED| OFFICE SUPPLIES|              LABELS|   REGULAR AIR|2010-01-31|SHP_6650|                   1|21502.610000000004|\n",
      "|   33702|Prod_12|Ord_4622|Cust_1579|       ADAM HART|    BRITISH COLUMBIA|                WEST|       CORPORATE|SHP_6437| 56.26|     0.0|            14|  28.11|          0.5|               0.38|2012-09-02| NOT SPECIFIED| OFFICE SUPPLIES|              LABELS|   EXPRESS AIR|2012-09-03|SHP_6437|                   1|21502.610000000004|\n",
      "|   23555|Prod_12|Ord_4552|Cust_1474|       ADAM HART|               YUKON|               YUKON|       CORPORATE|SHP_6335| 104.7|    0.09|            29|  42.16|          0.5|               0.38|2012-12-11|          HIGH| OFFICE SUPPLIES|              LABELS|   REGULAR AIR|2012-12-12|SHP_6335|                   1|21502.610000000004|\n",
      "|    9763|Prod_12|  Ord_60|  Cust_45|     ALAN BARNES|NORTHWEST TERRITO...|NORTHWEST TERRITO...|       CORPORATE|  SHP_81|176.26|    0.07|            44|  75.13|          0.5|               0.39|2011-08-13|        MEDIUM| OFFICE SUPPLIES|              LABELS|   REGULAR AIR|2011-08-16|  SHP_81|                   3|21502.610000000004|\n",
      "|    2532|Prod_12|  Ord_23|  Cust_18|     ALAN BARNES|             NUNAVUT|             NUNAVUT|       CORPORATE|  SHP_31|282.07|    0.03|            39| 140.01|         0.49|               0.38|2011-10-10|          HIGH| OFFICE SUPPLIES|              LABELS|   REGULAR AIR|2011-10-11|  SHP_31|                   1|21502.610000000004|\n",
      "|   26309|Prod_12|Ord_5417|Cust_1800|  ALAN DOMINGUEZ|             ALBERTA|                WEST|       CORPORATE|SHP_7565|128.13|    0.09|            42|  32.53|         0.99|               0.37|2012-02-19|           LOW| OFFICE SUPPLIES|              LABELS|   REGULAR AIR|2012-02-21|SHP_7565|                   2|21502.610000000004|\n",
      "|   21703|Prod_12|Ord_4155|Cust_1423|      ALAN HWANG|       NEW BRUNSWICK|            ATLANTIC|  SMALL BUSINESS|SHP_5790| 12.01|     0.0|             3|  -1.08|          0.5|               0.38|2009-03-02| NOT SPECIFIED| OFFICE SUPPLIES|              LABELS|   EXPRESS AIR|2009-03-02|SHP_5791|                   0|21502.610000000004|\n",
      "|   21703|Prod_12|Ord_4155|Cust_1423|      ALAN HWANG|       NEW BRUNSWICK|            ATLANTIC|  SMALL BUSINESS|SHP_5790| 12.01|     0.0|             3|  -1.08|          0.5|               0.38|2009-03-02| NOT SPECIFIED| OFFICE SUPPLIES|              LABELS|   REGULAR AIR|2009-03-04|SHP_5790|                   2|21502.610000000004|\n",
      "|   52007|Prod_12|Ord_2791|Cust_1036| ALEJANDRO GROVE|             ONTARIO|             ONTARIO|        CONSUMER|SHP_3837| 68.54|     0.1|            25|   22.2|          0.5|               0.39|2012-04-14|        MEDIUM| OFFICE SUPPLIES|              LABELS|DELIVERY TRUCK|2012-04-15|SHP_3838|                   1|21502.610000000004|\n",
      "|   52007|Prod_12|Ord_2791|Cust_1036| ALEJANDRO GROVE|             ONTARIO|             ONTARIO|        CONSUMER|SHP_3837| 68.54|     0.1|            25|   22.2|          0.5|               0.39|2012-04-14|        MEDIUM| OFFICE SUPPLIES|              LABELS|   REGULAR AIR|2012-04-14|SHP_3837|                   0|21502.610000000004|\n",
      "|   41440|Prod_12|Ord_4675|Cust_1618|ALEJANDRO SAVELY|    BRITISH COLUMBIA|                WEST|       CORPORATE|SHP_6519| 92.94|    0.09|            20|  37.77|          0.5|               0.36|2009-09-22|          HIGH| OFFICE SUPPLIES|              LABELS|DELIVERY TRUCK|2009-09-25|SHP_6520|                   3|21502.610000000004|\n",
      "|   41440|Prod_12|Ord_4675|Cust_1618|ALEJANDRO SAVELY|    BRITISH COLUMBIA|                WEST|       CORPORATE|SHP_6519| 92.94|    0.09|            20|  37.77|          0.5|               0.36|2009-09-22|          HIGH| OFFICE SUPPLIES|              LABELS|   REGULAR AIR|2009-09-23|SHP_6519|                   1|21502.610000000004|\n",
      "|   13959|Prod_12|Ord_5161|Cust_1752|    ALEX RUSSELL|             ALBERTA|                WEST|     HOME OFFICE|SHP_7212|228.46|    0.01|            47| 112.06|          0.5|               0.36|2009-04-04|        MEDIUM| OFFICE SUPPLIES|              LABELS|   EXPRESS AIR|2009-04-06|SHP_7213|                   2|21502.610000000004|\n",
      "|   13959|Prod_12|Ord_5161|Cust_1752|    ALEX RUSSELL|             ALBERTA|                WEST|     HOME OFFICE|SHP_7212|228.46|    0.01|            47| 112.06|          0.5|               0.36|2009-04-04|        MEDIUM| OFFICE SUPPLIES|              LABELS|   REGULAR AIR|2009-04-06|SHP_7212|                   2|21502.610000000004|\n",
      "|   16772|Prod_12|Ord_5165|Cust_1752|    ALEX RUSSELL|             ALBERTA|                WEST|     HOME OFFICE|SHP_7218| 95.71|    0.04|            38|  32.81|          0.5|               0.39|2012-12-26|          HIGH| OFFICE SUPPLIES|              LABELS|   REGULAR AIR|2012-12-28|SHP_7218|                   2|21502.610000000004|\n",
      "+--------+-------+--------+---------+----------------+--------------------+--------------------+----------------+--------+------+--------+--------------+-------+-------------+-------------------+----------+--------------+----------------+--------------------+--------------+----------+--------+--------------------+------------------+\n",
      "only showing top 20 rows\n",
      "\n"
     ]
    }
   ],
   "source": [
    "Full_DataFrame.withColumn(\"Total_Profit\",sum(col(\"Profit\")).over(windowPartition)).show()"
   ]
  },
  {
   "cell_type": "code",
   "execution_count": 17,
   "metadata": {},
   "outputs": [
    {
     "name": "stdout",
     "output_type": "stream",
     "text": [
      "+--------------------+------------+\n",
      "|Product_Sub_Category|Total_Profit|\n",
      "+--------------------+------------+\n",
      "|              LABELS|    21502.61|\n",
      "|        RUBBER BANDS|       59.35|\n",
      "|     COPIERS AND FAX|    374265.5|\n",
      "| PENS & ART SUPPLIES|    14484.48|\n",
      "|          APPLIANCES|   171173.79|\n",
      "|     OFFICE MACHINES|   489496.99|\n",
      "|  CHAIRS & CHAIRMATS|   295724.99|\n",
      "|STORAGE & ORGANIZ...|   -26756.57|\n",
      "|SCISSORS, RULERS ...|   -10862.49|\n",
      "|           BOOKCASES|   -76670.38|\n",
      "|               PAPER|    80857.66|\n",
      "|              TABLES|  -159324.18|\n",
      "|  OFFICE FURNISHINGS|   188356.49|\n",
      "|BINDERS AND BINDE...|   492766.44|\n",
      "|COMPUTER PERIPHERALS|   153821.73|\n",
      "|TELEPHONES AND CO...|   527413.12|\n",
      "|           ENVELOPES|     75764.4|\n",
      "+--------------------+------------+\n",
      "\n"
     ]
    }
   ],
   "source": [
    "Full_DataFrame.groupBy(\"Product_Sub_Category\").agg(round(sum(\"Profit\"),2).alias(\"Total_Profit\")).show()\n"
   ]
  },
  {
   "cell_type": "markdown",
   "metadata": {},
   "source": [
    "## 9. Count the total number of unique customers in January and how many of them came back every month over the entire year in 2011. "
   ]
  },
  {
   "cell_type": "code",
   "execution_count": 18,
   "metadata": {},
   "outputs": [
    {
     "data": {
      "text/plain": [
       "412"
      ]
     },
     "execution_count": 18,
     "metadata": {},
     "output_type": "execute_result"
    }
   ],
   "source": [
    "Jan_Cust_Unq = Full_DataFrame.select(['Cust_id']).where((month('Order_Date')=='01')).distinct()\n",
    "\n",
    "Jan_Cust_Unq.count()"
   ]
  },
  {
   "cell_type": "code",
   "execution_count": 19,
   "metadata": {},
   "outputs": [],
   "source": [
    "Repeat_Cust = Full_DataFrame.select(['Cust_id']).where((year('Order_Date')=='2011') & (Full_DataFrame['Cust_id'].isin(Jan_Cust_Unq['Cust_id']) == True)).distinct()"
   ]
  },
  {
   "cell_type": "code",
   "execution_count": 20,
   "metadata": {},
   "outputs": [
    {
     "data": {
      "text/plain": [
       "961"
      ]
     },
     "execution_count": 20,
     "metadata": {},
     "output_type": "execute_result"
    }
   ],
   "source": [
    "Repeat_Cust.count()"
   ]
  },
  {
   "cell_type": "markdown",
   "metadata": {},
   "source": [
    "## 10. Calculate the total quantity purchased, discount received by the customer, and calculate the total sales sold and profit earned from each customer. Order the data frame on Total_profit in descending order. "
   ]
  },
  {
   "cell_type": "code",
   "execution_count": 21,
   "metadata": {},
   "outputs": [
    {
     "name": "stdout",
     "output_type": "stream",
     "text": [
      "+---------+-----------------+------------------------+--------------+-----------+------------+\n",
      "|  Cust_id|    Customer_Name|Total Quantity Purchased|Total Discount|Total Sales|Total_Profit|\n",
      "+---------+-----------------+------------------------+--------------+-----------+------------+\n",
      "|Cust_1151|       EMILY PHAN|                     182|          0.48|  192708.91|     57508.1|\n",
      "|Cust_1307|      ANDY REITER|                     317|          0.96|  107288.48|    45292.26|\n",
      "| Cust_934| LOGAN HAUSHALTER|                     592|           1.3|  105246.32|    41093.72|\n",
      "| Cust_725|DEBORAH BRUMFIELD|                     454|          0.12|  116280.59|    39982.44|\n",
      "| Cust_937|   JOHN STEVENSON|                     242|          0.52|   96926.38|    37766.56|\n",
      "|Cust_1763|      RICK WILSON|                     300|          0.54|   80437.41|    37658.25|\n",
      "|Cust_1799|     RAYMOND BOOK|                    1062|          1.64|  136939.63|    37267.98|\n",
      "| Cust_424| LYCORIS SAUNDERS|                     596|          1.08|  134413.04|    32447.36|\n",
      "|Cust_1748|     CLYTIE KELTY|                     362|           0.5|   92294.44|    32161.14|\n",
      "| Cust_685|     NOEL STAAVOS|                     302|          0.86|   91841.87|    32143.78|\n",
      "|  Cust_63|    GRANT CARROLL|                     339|          0.34|   82074.33|    30484.81|\n",
      "| Cust_997|  ALEJANDRO GROVE|                     477|          0.72|   100258.0|    29408.63|\n",
      "|Cust_1729|  MITCH GASTINEAU|                     732|          1.26|  109863.33|    29228.84|\n",
      "|Cust_1762| VALERIE TAKAHITO|                     198|           0.5|  119742.87|    28283.14|\n",
      "|Cust_1281|     PETER FULLER|                     718|           1.0|  112695.61|    27975.01|\n",
      "|Cust_1170|DEBORAH BRUMFIELD|                     144|          0.36|   59247.04|    26082.14|\n",
      "| Cust_899| GIULIETTA DORTCH|                     137|          0.11|    64790.8|    25846.11|\n",
      "|Cust_1421|  LIZ MACKENDRICK|                     554|          0.94|   87842.23|    25837.84|\n",
      "|Cust_1746|        BECKY PAK|                     608|          1.58|  112098.52|    24695.59|\n",
      "| Cust_466|  RITSA HIGHTOWER|                     711|          1.69|  111501.79|    24624.28|\n",
      "+---------+-----------------+------------------------+--------------+-----------+------------+\n",
      "only showing top 20 rows\n",
      "\n"
     ]
    }
   ],
   "source": [
    "spark.sql(\"select Cust_id, Customer_Name, sum(Order_Quantity) as `Total Quantity Purchased`,round(sum(Discount),2) as `Total Discount`, round(sum(Sales),2) as `Total Sales`, round(sum(Profit),2) as `Total_Profit` from ship_data group by Cust_id,Customer_Name order by Total_Profit desc \").show()"
   ]
  }
 ],
 "metadata": {
  "kernelspec": {
   "display_name": "Python 3",
   "language": "python",
   "name": "python3"
  },
  "language_info": {
   "codemirror_mode": {
    "name": "ipython",
    "version": 3
   },
   "file_extension": ".py",
   "mimetype": "text/x-python",
   "name": "python",
   "nbconvert_exporter": "python",
   "pygments_lexer": "ipython3",
   "version": "3.7.6"
  }
 },
 "nbformat": 4,
 "nbformat_minor": 4
}
